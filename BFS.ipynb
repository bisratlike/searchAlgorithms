{
 "cells": [
  {
   "cell_type": "code",
   "execution_count": 11,
   "metadata": {},
   "outputs": [
    {
     "name": "stdout",
     "output_type": "stream",
     "text": [
      "Oradea -> {'Sibiu': 151, 'Zerind': 71}\n",
      "Zerind -> {'Oradea': 71, 'Arad': 75}\n",
      "Arad -> {'Sibiu': 140, 'Zerind': 75, 'Timisoara': 118}\n",
      "Timisoara -> {'Arad': 118, 'Lugoj': 111}\n",
      "Lugoj -> {'Timisoara': 111, 'Mehadia': 70}\n",
      "Mehadia -> {'Lugoj': 70, 'Drobeta': 75}\n",
      "Drobeta -> {'Mehadia': 75, 'Craiova': 120}\n",
      "Craiova -> {'Rimnicu_Vilcea': 146, 'Drobeta': 120, 'Pitesti': 138}\n",
      "Sibiu -> {'Rimnicu_Vilcea': 80, 'Oradea': 151, 'Arad': 140, 'Fagaras': 99}\n",
      "Rimnicu_Vilcea -> {'Sibiu': 80, 'Pitesti': 97, 'Craiova': 146}\n",
      "Fagaras -> {'Sibiu': 99, 'Bucharest': 211}\n",
      "Pitesti -> {'Rimnicu_Vilcea': 97, 'Craiova': 138, 'Bucharest': 101}\n",
      "Giurgiu -> {'Bucharest': 90}\n",
      "Bucharest -> {'Fagaras': 211, 'Pitesti': 101, 'Giurgiu': 90, 'Urziceni': 85}\n",
      "Urziceni -> {'Bucharest': 85, 'Hirsova': 98, 'Vaslui': 142}\n",
      "Eforie -> {'Hirsova': 86}\n",
      "Hirsova -> {'Urziceni': 98, 'Eforie': 86, 'Vaslui': 92}\n",
      "Vaslui -> {'Urziceni': 142, 'Hirsova': 92, 'Iasi': 92}\n",
      "Iasi -> {'Vaslui': 92, 'Neamt': 87}\n",
      "Neamt -> {'Iasi': 87}\n"
     ]
    }
   ],
   "source": [
    "%run cityGraph.ipynb"
   ]
  },
  {
   "cell_type": "code",
   "execution_count": 21,
   "metadata": {},
   "outputs": [
    {
     "name": "stdout",
     "output_type": "stream",
     "text": [
      "Path found: ['Lugoj', 'Timisoara', 'Arad', 'Sibiu', 'Fagaras', 'Bucharest', 'Urziceni', 'Hirsova']\n",
      "Total distance: 862\n"
     ]
    }
   ],
   "source": [
    "from collections import deque\n",
    "\n",
    "def bfs(graph, start, goal):\n",
    "    queue = deque([(start, [start], 0)])  \n",
    "    visited = set()\n",
    "\n",
    "    while queue:\n",
    "        current, path, total_distance = queue.popleft()\n",
    "        if current == goal:\n",
    "            return path, total_distance\n",
    "        \n",
    "        visited.add(current)\n",
    "        \n",
    "        for neighbor, distance in graph.edges[current].items():\n",
    "            if neighbor not in visited:\n",
    "                new_distance = total_distance + distance  \n",
    "                queue.append((neighbor, path + [neighbor], new_distance))\n",
    "    \n",
    "    return None, None  \n",
    "\n",
    "path, total_distance = bfs(g, 'Lugoj', 'Hirsova')\n",
    "\n",
    "if path:\n",
    "    print(\"Path found:\", path)\n",
    "    print(\"Total distance:\", total_distance)\n",
    "else:\n",
    "    print(\"No path found.\")\n"
   ]
  },
  {
   "cell_type": "code",
   "execution_count": 20,
   "metadata": {},
   "outputs": [
    {
     "name": "stdout",
     "output_type": "stream",
     "text": [
      "Cost of the path: 687\n",
      "Path: ['Lugoj', 'Mehadia', 'Drobeta', 'Craiova', 'Pitesti', 'Bucharest', 'Urziceni', 'Hirsova']\n"
     ]
    }
   ],
   "source": [
    "from queue import PriorityQueue\n",
    "\n",
    "def ucs(graph, start, goal):\n",
    "    queue = PriorityQueue()\n",
    "    queue.put((0, [start]))  # Initialize the queue with the start node and its path\n",
    "    visited = set()\n",
    "\n",
    "    while not queue.empty():\n",
    "        cost, path = queue.get()\n",
    "        current = path[-1]  # Get the current node from the end of the path\n",
    "        if current == goal:\n",
    "            return cost, path  # Return the cost and the path if the goal node is reached\n",
    "\n",
    "        visited.add(current)\n",
    "\n",
    "        for neighbor, distance in graph.edges[current].items():\n",
    "            if neighbor not in visited:\n",
    "                total_cost = cost + distance\n",
    "                # Add the neighbor and its path to the priority queue with its total cost\n",
    "                queue.put((total_cost, path + [neighbor]))\n",
    "    \n",
    "    return None, None  # If no path is found, return None for both cost and path\n",
    "\n",
    "cost, path = ucs(g, 'Lugoj', 'Hirsova')\n",
    "\n",
    "if cost is not None:\n",
    "    print(\"Cost of the path:\", cost)\n",
    "    print(\"Path:\", path)\n",
    "else:\n",
    "    print(\"No path found.\")\n"
   ]
  },
  {
   "cell_type": "code",
   "execution_count": 22,
   "metadata": {},
   "outputs": [
    {
     "name": "stdout",
     "output_type": "stream",
     "text": [
      "Path found: ['Lugoj', 'Mehadia', 'Drobeta', 'Craiova', 'Pitesti', 'Bucharest', 'Urziceni', 'Hirsova']\n"
     ]
    }
   ],
   "source": [
    "from queue import PriorityQueue\n",
    "import math\n",
    "\n",
    "def euclidean_distance(coord1, coord2):\n",
    "    # Calculate the Euclidean distance between two coordinates\n",
    "    return math.sqrt((coord1[0] - coord2[0])**2 + (coord1[1] - coord2[1])**2)\n",
    "\n",
    "def astar(graph, start, goal):\n",
    "    # Initialize a priority queue for A* and a set to keep track of visited nodes\n",
    "    queue = PriorityQueue()\n",
    "    queue.put((0, start))  # Initialize the queue with the start node and its cost\n",
    "    visited = set()\n",
    "    came_from = {}  # Dictionary to store the previous node in the shortest path\n",
    "    g_score = {node: float('inf') for node in graph.nodes}  # Initialize the g_score with infinity for all nodes\n",
    "    g_score[start] = 0  # Set the g_score of the start node to 0\n",
    "\n",
    "    # Iterate until the priority queue is empty\n",
    "    while not queue.empty():\n",
    "        _, current = queue.get()  # Get the node with the lowest f_score from the priority queue\n",
    "        if current == goal:\n",
    "            # Reconstruct and return the path\n",
    "            path = []\n",
    "            while current is not None:\n",
    "                path.append(current)\n",
    "                current = came_from.get(current)\n",
    "            return path[::-1]  # Reverse the path to get it from start to goal\n",
    "\n",
    "        # Mark the current node as visited\n",
    "        visited.add(current)\n",
    "\n",
    "        # Explore neighbors of the current node\n",
    "        for neighbor, distance in graph.edges[current].items():\n",
    "            if neighbor not in visited:\n",
    "                # Calculate the tentative g_score for the neighbor\n",
    "                tentative_g_score = g_score[current] + distance\n",
    "\n",
    "                if tentative_g_score < g_score[neighbor]:\n",
    "                    # Update g_score and f_score for the neighbor\n",
    "                    g_score[neighbor] = tentative_g_score\n",
    "                    f_score = tentative_g_score + euclidean_distance(graph.nodes[neighbor], graph.nodes[goal])\n",
    "                    queue.put((f_score, neighbor))\n",
    "                    came_from[neighbor] = current\n",
    "\n",
    "    # If no path is found, return None\n",
    "    return None\n",
    "\n",
    "# Call the astar function to find the path from 'Lugoj' to 'Hirsova'\n",
    "path = astar(g, 'Lugoj', 'Hirsova')\n",
    "\n",
    "# Print the path\n",
    "if path:\n",
    "    print(\"Path found:\", path)\n",
    "else:\n",
    "    print(\"No path found.\")\n"
   ]
  }
 ],
 "metadata": {
  "kernelspec": {
   "display_name": "Python 3",
   "language": "python",
   "name": "python3"
  },
  "language_info": {
   "codemirror_mode": {
    "name": "ipython",
    "version": 3
   },
   "file_extension": ".py",
   "mimetype": "text/x-python",
   "name": "python",
   "nbconvert_exporter": "python",
   "pygments_lexer": "ipython3",
   "version": "3.10.12"
  }
 },
 "nbformat": 4,
 "nbformat_minor": 2
}
