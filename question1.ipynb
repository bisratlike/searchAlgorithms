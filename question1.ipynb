{
 "cells": [
  {
   "cell_type": "code",
   "execution_count": 1,
   "metadata": {},
   "outputs": [],
   "source": [
    "class graph:\n",
    "    def __init__(self) -> None:\n",
    "        self.graph = {}\n",
    "    def addNode(self,node):\n",
    "        if node not in self.graph:\n",
    "            self.graph[node] =[]\n",
    "    def addEdge(self,node1,node2):\n",
    "        if node1 not in self.graph[node2]:\n",
    "            self.graph[node2].append(node1)\n",
    "        if node2 not in self.graph[node1]:\n",
    "            self.graph[node1].append(node1)\n",
    "    def delEdge(self,node1,node2):\n",
    "        if node1  in self.graph[node2]:\n",
    "            self.graph[node2].remove(node1)\n",
    "        if node2 in self.graph[node1]:\n",
    "            self.graph[node1].remove(node1)\n",
    "    def delNode(self,node):\n",
    "        if node in self.graph:\n",
    "            del(self.graph[node])\n",
    "        for i in self.graph:\n",
    "            if node in self.graph[i]:\n",
    "                self.graph[i].remove(node)\n",
    "    def display(self):\n",
    "        for node in self.graph:\n",
    "            print(node, \"->\", self.graph[node])\n"
   ]
  },
  {
   "cell_type": "code",
   "execution_count": null,
   "metadata": {},
   "outputs": [],
   "source": []
  }
 ],
 "metadata": {
  "kernelspec": {
   "display_name": "Python 3",
   "language": "python",
   "name": "python3"
  },
  "language_info": {
   "codemirror_mode": {
    "name": "ipython",
    "version": 3
   },
   "file_extension": ".py",
   "mimetype": "text/x-python",
   "name": "python",
   "nbconvert_exporter": "python",
   "pygments_lexer": "ipython3",
   "version": "3.10.12"
  }
 },
 "nbformat": 4,
 "nbformat_minor": 2
}
