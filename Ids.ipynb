{
 "cells": [
  {
   "cell_type": "code",
   "execution_count": 1,
   "metadata": {},
   "outputs": [
    {
     "name": "stdout",
     "output_type": "stream",
     "text": [
      "Oradea -> {'Sibiu': 151, 'Zerind': 71}\n",
      "Zerind -> {'Oradea': 71, 'Arad': 75}\n",
      "Arad -> {'Sibiu': 140, 'Zerind': 75, 'Timisoara': 118}\n",
      "Timisoara -> {'Arad': 118, 'Lugoj': 111}\n",
      "Lugoj -> {'Timisoara': 111, 'Mehadia': 70}\n",
      "Mehadia -> {'Lugoj': 70, 'Drobeta': 75}\n",
      "Drobeta -> {'Mehadia': 75, 'Craiova': 120}\n",
      "Craiova -> {'Rimnicu_Vilcea': 146, 'Drobeta': 120, 'Pitesti': 138}\n",
      "Sibiu -> {'Rimnicu_Vilcea': 80, 'Oradea': 151, 'Arad': 140, 'Fagaras': 99}\n",
      "Rimnicu_Vilcea -> {'Sibiu': 80, 'Pitesti': 97, 'Craiova': 146}\n",
      "Fagaras -> {'Sibiu': 99, 'Bucharest': 211}\n",
      "Pitesti -> {'Rimnicu_Vilcea': 97, 'Craiova': 138, 'Bucharest': 101}\n",
      "Giurgiu -> {'Bucharest': 90}\n",
      "Bucharest -> {'Fagaras': 211, 'Pitesti': 101, 'Giurgiu': 90, 'Urziceni': 85}\n",
      "Urziceni -> {'Bucharest': 85, 'Hirsova': 98, 'Vaslui': 142}\n",
      "Eforie -> {'Hirsova': 86}\n",
      "Hirsova -> {'Urziceni': 98, 'Eforie': 86, 'Vaslui': 92}\n",
      "Vaslui -> {'Urziceni': 142, 'Hirsova': 92, 'Iasi': 92}\n",
      "Iasi -> {'Vaslui': 92, 'Neamt': 87}\n",
      "Neamt -> {'Iasi': 87}\n"
     ]
    }
   ],
   "source": [
    "%run cityGraph.ipynb"
   ]
  },
  {
   "cell_type": "code",
   "execution_count": 3,
   "metadata": {},
   "outputs": [
    {
     "name": "stdout",
     "output_type": "stream",
     "text": [
      "Path found: ['Lugoj', 'Mehadia', 'Drobeta', 'Craiova', 'Pitesti', 'Bucharest', 'Urziceni', 'Hirsova']\n",
      "Total cost: 687\n"
     ]
    }
   ],
   "source": [
    "def dfs(graph, start, goal, depth_limit):\n",
    "    visited = set()  # Initialize a set to keep track of visited nodes\n",
    "    stack = [(start, [start], 0)]  # Initialize a stack for DFS with tuples of (current node, path, total cost)\n",
    "\n",
    "    while stack:\n",
    "        current, path, total_cost = stack.pop()  # Pop the top node, its path, and total cost from the stack\n",
    "        if current == goal:\n",
    "            return path, total_cost  # Return the path and total cost if the goal node is reached\n",
    "        \n",
    "        visited.add(current)\n",
    "        \n",
    "        if len(path) <= depth_limit:  # Check if the current depth is within the limit\n",
    "            for neighbor, distance in graph.edges[current].items():\n",
    "                if neighbor not in visited:\n",
    "                    stack.append((neighbor, path + [neighbor], total_cost + distance))  # Push unvisited neighbors to the stack with updated cost\n",
    "    \n",
    "    return None, 0  # Return None and 0 if the goal node is not found within the depth limit\n",
    "\n",
    "def iterative_deepening(graph, start, goal):\n",
    "    depth_limit = 0\n",
    "    while True:\n",
    "        path, total_cost = dfs(graph, start, goal, depth_limit)\n",
    "        if path:\n",
    "            return path, total_cost  # Return the path and total cost if found within the depth limit\n",
    "        depth_limit += 1  # Increment the depth limit for the next iteration\n",
    "\n",
    "# Example usage:\n",
    "path, total_cost = iterative_deepening(g, 'Lugoj', 'Hirsova')\n",
    "print(\"Path found:\", path)\n",
    "print(\"Total cost:\", total_cost)\n"
   ]
  }
 ],
 "metadata": {
  "kernelspec": {
   "display_name": "Python 3",
   "language": "python",
   "name": "python3"
  },
  "language_info": {
   "codemirror_mode": {
    "name": "ipython",
    "version": 3
   },
   "file_extension": ".py",
   "mimetype": "text/x-python",
   "name": "python",
   "nbconvert_exporter": "python",
   "pygments_lexer": "ipython3",
   "version": "3.10.12"
  }
 },
 "nbformat": 4,
 "nbformat_minor": 2
}
