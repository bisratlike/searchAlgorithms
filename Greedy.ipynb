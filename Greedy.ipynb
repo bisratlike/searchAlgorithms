{
 "cells": [
  {
   "cell_type": "code",
   "execution_count": 1,
   "metadata": {},
   "outputs": [
    {
     "name": "stdout",
     "output_type": "stream",
     "text": [
      "Oradea -> {'Sibiu': 151, 'Zerind': 71}\n",
      "Zerind -> {'Oradea': 71, 'Arad': 75}\n",
      "Arad -> {'Sibiu': 140, 'Zerind': 75, 'Timisoara': 118}\n",
      "Timisoara -> {'Arad': 118, 'Lugoj': 111}\n",
      "Lugoj -> {'Timisoara': 111, 'Mehadia': 70}\n",
      "Mehadia -> {'Lugoj': 70, 'Drobeta': 75}\n",
      "Drobeta -> {'Mehadia': 75, 'Craiova': 120}\n",
      "Craiova -> {'Rimnicu_Vilcea': 146, 'Drobeta': 120, 'Pitesti': 138}\n",
      "Sibiu -> {'Rimnicu_Vilcea': 80, 'Oradea': 151, 'Arad': 140, 'Fagaras': 99}\n",
      "Rimnicu_Vilcea -> {'Sibiu': 80, 'Pitesti': 97, 'Craiova': 146}\n",
      "Fagaras -> {'Sibiu': 99, 'Bucharest': 211}\n",
      "Pitesti -> {'Rimnicu_Vilcea': 97, 'Craiova': 138, 'Bucharest': 101}\n",
      "Giurgiu -> {'Bucharest': 90}\n",
      "Bucharest -> {'Fagaras': 211, 'Pitesti': 101, 'Giurgiu': 90, 'Urziceni': 85}\n",
      "Urziceni -> {'Bucharest': 85, 'Hirsova': 98, 'Vaslui': 142}\n",
      "Eforie -> {'Hirsova': 86}\n",
      "Hirsova -> {'Urziceni': 98, 'Eforie': 86, 'Vaslui': 92}\n",
      "Vaslui -> {'Urziceni': 142, 'Hirsova': 92, 'Iasi': 92}\n",
      "Iasi -> {'Vaslui': 92, 'Neamt': 87}\n",
      "Neamt -> {'Iasi': 87}\n"
     ]
    }
   ],
   "source": [
    "%run cityGraph.ipynb"
   ]
  },
  {
   "cell_type": "code",
   "execution_count": 2,
   "metadata": {},
   "outputs": [
    {
     "name": "stdout",
     "output_type": "stream",
     "text": [
      "Path found: Bucharest\n"
     ]
    }
   ],
   "source": [
    "from queue import PriorityQueue\n",
    "\n",
    "def greedy_best_first_search(graph, start, goal):\n",
    "    priority_queue = PriorityQueue()\n",
    "    priority_queue.put((0, start))  # Initialize the priority queue with the start node and its heuristic value\n",
    "    visited = set()\n",
    "\n",
    "    while not priority_queue.empty():\n",
    "        _, current = priority_queue.get()  # Get the node with the lowest heuristic value from the priority queue\n",
    "        if current == goal:\n",
    "            return current  # Return the current node if the goal node is reached\n",
    "\n",
    "        visited.add(current)\n",
    "\n",
    "        for neighbor, distance in graph.edges[current].items():\n",
    "            if neighbor not in visited:\n",
    "                heuristic = calculate_heuristic(graph.nodes[neighbor], graph.nodes[goal])\n",
    "                priority_queue.put((heuristic, neighbor))  # Add the neighbor to the priority queue with its heuristic value\n",
    "    \n",
    "    return None\n",
    "\n",
    "def calculate_heuristic(node1, node2):\n",
    "    # Calculate the Euclidean distance between two nodes based on their coordinates\n",
    "    x1, y1 = node1\n",
    "    x2, y2 = node2\n",
    "    return ((x2 - x1) ** 2 + (y2 - y1) ** 2) ** 0.5\n",
    "\n",
    "# Example usage:\n",
    "goal = 'Bucharest'\n",
    "start = 'Arad'\n",
    "\n",
    "result = greedy_best_first_search(g, start, goal)\n",
    "if result:\n",
    "    print(\"Path found:\", result)\n",
    "else:\n",
    "    print(\"No path found.\")\n"
   ]
  }
 ],
 "metadata": {
  "kernelspec": {
   "display_name": "Python 3",
   "language": "python",
   "name": "python3"
  },
  "language_info": {
   "codemirror_mode": {
    "name": "ipython",
    "version": 3
   },
   "file_extension": ".py",
   "mimetype": "text/x-python",
   "name": "python",
   "nbconvert_exporter": "python",
   "pygments_lexer": "ipython3",
   "version": "3.10.12"
  }
 },
 "nbformat": 4,
 "nbformat_minor": 2
}
