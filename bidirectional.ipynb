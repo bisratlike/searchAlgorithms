{
 "cells": [
  {
   "cell_type": "code",
   "execution_count": 1,
   "metadata": {},
   "outputs": [
    {
     "name": "stdout",
     "output_type": "stream",
     "text": [
      "Oradea -> {'Sibiu': 151, 'Zerind': 71}\n",
      "Zerind -> {'Oradea': 71, 'Arad': 75}\n",
      "Arad -> {'Sibiu': 140, 'Zerind': 75, 'Timisoara': 118}\n",
      "Timisoara -> {'Arad': 118, 'Lugoj': 111}\n",
      "Lugoj -> {'Timisoara': 111, 'Mehadia': 70}\n",
      "Mehadia -> {'Lugoj': 70, 'Drobeta': 75}\n",
      "Drobeta -> {'Mehadia': 75, 'Craiova': 120}\n",
      "Craiova -> {'Rimnicu_Vilcea': 146, 'Drobeta': 120, 'Pitesti': 138}\n",
      "Sibiu -> {'Rimnicu_Vilcea': 80, 'Oradea': 151, 'Arad': 140, 'Fagaras': 99}\n",
      "Rimnicu_Vilcea -> {'Sibiu': 80, 'Pitesti': 97, 'Craiova': 146}\n",
      "Fagaras -> {'Sibiu': 99, 'Bucharest': 211}\n",
      "Pitesti -> {'Rimnicu_Vilcea': 97, 'Craiova': 138, 'Bucharest': 101}\n",
      "Giurgiu -> {'Bucharest': 90}\n",
      "Bucharest -> {'Fagaras': 211, 'Pitesti': 101, 'Giurgiu': 90, 'Urziceni': 85}\n",
      "Urziceni -> {'Bucharest': 85, 'Hirsova': 98, 'Vaslui': 142}\n",
      "Eforie -> {'Hirsova': 86}\n",
      "Hirsova -> {'Urziceni': 98, 'Eforie': 86, 'Vaslui': 92}\n",
      "Vaslui -> {'Urziceni': 142, 'Hirsova': 92, 'Iasi': 92}\n",
      "Iasi -> {'Vaslui': 92, 'Neamt': 87}\n",
      "Neamt -> {'Iasi': 87}\n"
     ]
    }
   ],
   "source": [
    "%run cityGraph.ipynb"
   ]
  },
  {
   "cell_type": "code",
   "execution_count": 2,
   "metadata": {},
   "outputs": [
    {
     "name": "stdout",
     "output_type": "stream",
     "text": [
      "Path found: ['Lugoj', 'Timisoara', 'Arad', 'Sibiu', 'Fagaras', 'Bucharest', 'Urziceni', 'Hirsova']\n",
      "Total distance: 741\n"
     ]
    }
   ],
   "source": [
    "def bidirectional_search(graph, start, goal):\n",
    "    # Initialize sets to keep track of visited nodes from both directions\n",
    "    visited_start = set()\n",
    "    visited_goal = set()\n",
    "\n",
    "    # Initialize queues for BFS from both directions\n",
    "    queue_start = [(start, [start], 0)]  # Queue of tuples (current node, path, total distance) from start node\n",
    "    queue_goal = [(goal, [goal], 0)]     # Queue of tuples (current node, path, total distance) from goal node\n",
    "\n",
    "    while queue_start and queue_goal:\n",
    "        # Explore from the start node\n",
    "        current_start, path_start, distance_start = queue_start.pop(0)\n",
    "        visited_start.add(current_start)\n",
    "\n",
    "        # Check if the current node from the start direction is visited by the goal direction\n",
    "        if current_start in visited_goal:\n",
    "            # Concatenate the paths from both directions\n",
    "            path_goal = list(reversed(path_goal))\n",
    "            path = path_start + path_goal[1:]  # Exclude the common node in the middle\n",
    "            total_distance = distance_start + distance_goal\n",
    "            return path, total_distance\n",
    "\n",
    "        # Explore neighbors of the current node from the start direction\n",
    "        for neighbor, distance in graph.edges[current_start].items():\n",
    "            if neighbor not in visited_start:\n",
    "                queue_start.append((neighbor, path_start + [neighbor], distance_start + distance))\n",
    "\n",
    "        # Explore from the goal node\n",
    "        current_goal, path_goal, distance_goal = queue_goal.pop(0)\n",
    "        visited_goal.add(current_goal)\n",
    "\n",
    "        # Check if the current node from the goal direction is visited by the start direction\n",
    "        if current_goal in visited_start:\n",
    "            # Concatenate the paths from both directions\n",
    "            path_start = list(reversed(path_start))\n",
    "            path = path_start + path_goal[1:]  # Exclude the common node in the middle\n",
    "            total_distance = distance_start + distance_goal\n",
    "            return path, total_distance\n",
    "\n",
    "        # Explore neighbors of the current node from the goal direction\n",
    "        for neighbor, distance in graph.edges[current_goal].items():\n",
    "            if neighbor not in visited_goal:\n",
    "                queue_goal.append((neighbor, path_goal + [neighbor], distance_goal + distance))\n",
    "\n",
    "    return None, None  # Return None if no path is found\n",
    "\n",
    "# Example usage:\n",
    "path, total_distance = bidirectional_search(g, 'Lugoj', 'Hirsova')\n",
    "if path:\n",
    "    print(\"Path found:\", path)\n",
    "    print(\"Total distance:\", total_distance)\n",
    "else:\n",
    "    print(\"No path found.\")\n"
   ]
  }
 ],
 "metadata": {
  "kernelspec": {
   "display_name": "Python 3",
   "language": "python",
   "name": "python3"
  },
  "language_info": {
   "codemirror_mode": {
    "name": "ipython",
    "version": 3
   },
   "file_extension": ".py",
   "mimetype": "text/x-python",
   "name": "python",
   "nbconvert_exporter": "python",
   "pygments_lexer": "ipython3",
   "version": "3.10.12"
  }
 },
 "nbformat": 4,
 "nbformat_minor": 2
}
